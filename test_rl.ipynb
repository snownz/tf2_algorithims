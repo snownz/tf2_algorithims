{
 "cells": [
  {
   "cell_type": "code",
   "execution_count": 1,
   "id": "5da7da31",
   "metadata": {},
   "outputs": [],
   "source": [
    "import os, json\n",
    "import gym\n",
    "import numpy as np\n",
    "import tensorflow as tf\n",
    "from tqdm import trange\n",
    "\n",
    "from dqn_agent import NQRDqnAgent"
   ]
  },
  {
   "cell_type": "code",
   "execution_count": 2,
   "id": "6a120f19",
   "metadata": {},
   "outputs": [
    {
     "name": "stdout",
     "output_type": "stream",
     "text": [
      "2.4.1\n",
      "WARNING:tensorflow:From <ipython-input-2-6555ca19308c>:2: is_gpu_available (from tensorflow.python.framework.test_util) is deprecated and will be removed in a future version.\n",
      "Instructions for updating:\n",
      "Use `tf.config.list_physical_devices('GPU')` instead.\n",
      "GPU Available:  True\n"
     ]
    }
   ],
   "source": [
    "print(tf.__version__)\n",
    "print(\"GPU Available: \", tf.test.is_gpu_available())"
   ]
  },
  {
   "cell_type": "code",
   "execution_count": 3,
   "id": "26441e8e",
   "metadata": {},
   "outputs": [],
   "source": [
    "class Obj(object):\n",
    "    def __init__(self):\n",
    "        pass"
   ]
  },
  {
   "cell_type": "code",
   "execution_count": 4,
   "id": "f75254ae",
   "metadata": {},
   "outputs": [],
   "source": [
    "args = Obj()\n",
    "\n",
    "args.environment = \"LunarLander-v2\"\n",
    "args.batch_size = 1024\n",
    "args.epochs = None\n",
    "args.epoch_cycles = 2\n",
    "args.rollout_steps = 1000\n",
    "args.buffer_size = 100000\n",
    "args.num_steps = 2000000\n",
    "args.experiment = 'nqrdqn_8atoms_s256x128_bs4096_adam2e4_noper_normal_nonstep_l2loss_v0'\n",
    "args.load = False\n",
    "args.train = True"
   ]
  },
  {
   "cell_type": "code",
   "execution_count": 5,
   "id": "ab48ad3a",
   "metadata": {},
   "outputs": [],
   "source": [
    "env = gym.make( args.environment )\n",
    "args.action_dim = env.action_space.n\n",
    "args.state_dim = env.observation_space.shape[0]"
   ]
  },
  {
   "cell_type": "code",
   "execution_count": 6,
   "id": "4d29eb72",
   "metadata": {},
   "outputs": [],
   "source": [
    "dqn = NQRDqnAgent( args.state_dim, args.action_dim, \n",
    "                   args.buffer_size, args.batch_size, args.experiment, \n",
    "                  128, 64, 8, args.train, tau = 1e-3 )"
   ]
  },
  {
   "cell_type": "code",
   "execution_count": 7,
   "id": "0527fff6",
   "metadata": {},
   "outputs": [],
   "source": [
    "base_dir = os.getcwd() + '/models/' + args.environment + '_' + args.experiment + '/'\n",
    "run_number = 0\n",
    "while os.path.exists(base_dir + str(run_number)): run_number += 1\n",
    "\n",
    "if args.load: dqn.restore_training( base_dir + 'training/' )\n",
    "\n",
    "os.makedirs( base_dir + str(run_number) )"
   ]
  },
  {
   "cell_type": "code",
   "execution_count": 8,
   "id": "61ed3e9d",
   "metadata": {},
   "outputs": [],
   "source": [
    "state = env.reset()\n",
    "episode_steps, episode_rewards = 0, 0 # total steps and rewards for each episode"
   ]
  },
  {
   "cell_type": "code",
   "execution_count": null,
   "id": "5ae94dd4",
   "metadata": {},
   "outputs": [
    {
     "name": "stderr",
     "output_type": "stream",
     "text": [
      "Steps: 1500 - TSteps: 0 - Esteps: 16:   0%|          | 0/1000000 [00:01<?, ?it/s] IOPub message rate exceeded.\n",
      "The notebook server will temporarily stop sending output\n",
      "to the client in order to avoid crashing it.\n",
      "To change this limit, set the config variable\n",
      "`--NotebookApp.iopub_msg_rate_limit`.\n",
      "\n",
      "Current values:\n",
      "NotebookApp.iopub_msg_rate_limit=1000.0 (msgs/sec)\n",
      "NotebookApp.rate_limit_window=3.0 (secs)\n",
      "\n",
      "Steps: 4375 - TSteps: 0 - Esteps: 77:   0%|          | 2/1000000 [00:05<642:33:28,  2.31s/it] IOPub message rate exceeded.\n",
      "The notebook server will temporarily stop sending output\n",
      "to the client in order to avoid crashing it.\n",
      "To change this limit, set the config variable\n",
      "`--NotebookApp.iopub_msg_rate_limit`.\n",
      "\n",
      "Current values:\n",
      "NotebookApp.iopub_msg_rate_limit=1000.0 (msgs/sec)\n",
      "NotebookApp.rate_limit_window=3.0 (secs)\n",
      "\n",
      "Steps: 6547 - TSteps: 40 - Esteps: 86:   0%|          | 3/1000000 [00:09<768:50:39,  2.77s/it] IOPub message rate exceeded.\n",
      "The notebook server will temporarily stop sending output\n",
      "to the client in order to avoid crashing it.\n",
      "To change this limit, set the config variable\n",
      "`--NotebookApp.iopub_msg_rate_limit`.\n",
      "\n",
      "Current values:\n",
      "NotebookApp.iopub_msg_rate_limit=1000.0 (msgs/sec)\n",
      "NotebookApp.rate_limit_window=3.0 (secs)\n",
      "\n",
      "Steps: 8500 - TSteps: 80 - Esteps: 43:   0%|          | 4/1000000 [00:13<861:49:57,  3.10s/it] IOPub message rate exceeded.\n",
      "The notebook server will temporarily stop sending output\n",
      "to the client in order to avoid crashing it.\n",
      "To change this limit, set the config variable\n",
      "`--NotebookApp.iopub_msg_rate_limit`.\n",
      "\n",
      "Current values:\n",
      "NotebookApp.iopub_msg_rate_limit=1000.0 (msgs/sec)\n",
      "NotebookApp.rate_limit_window=3.0 (secs)\n",
      "\n",
      "Steps: 10500 - TSteps: 120 - Esteps: 179:   0%|          | 5/1000000 [00:17<952:25:08,  3.43s/it]IOPub message rate exceeded.\n",
      "The notebook server will temporarily stop sending output\n",
      "to the client in order to avoid crashing it.\n",
      "To change this limit, set the config variable\n",
      "`--NotebookApp.iopub_msg_rate_limit`.\n",
      "\n",
      "Current values:\n",
      "NotebookApp.iopub_msg_rate_limit=1000.0 (msgs/sec)\n",
      "NotebookApp.rate_limit_window=3.0 (secs)\n",
      "\n",
      "Steps: 12500 - TSteps: 160 - Esteps: 72:   0%|          | 6/1000000 [00:21<1020:30:38,  3.67s/it] IOPub message rate exceeded.\n",
      "The notebook server will temporarily stop sending output\n",
      "to the client in order to avoid crashing it.\n",
      "To change this limit, set the config variable\n",
      "`--NotebookApp.iopub_msg_rate_limit`.\n",
      "\n",
      "Current values:\n",
      "NotebookApp.iopub_msg_rate_limit=1000.0 (msgs/sec)\n",
      "NotebookApp.rate_limit_window=3.0 (secs)\n",
      "\n",
      "Steps: 14603 - TSteps: 200 - Esteps: 21:   0%|          | 7/1000000 [00:26<1080:15:51,  3.89s/it] IOPub message rate exceeded.\n",
      "The notebook server will temporarily stop sending output\n",
      "to the client in order to avoid crashing it.\n",
      "To change this limit, set the config variable\n",
      "`--NotebookApp.iopub_msg_rate_limit`.\n",
      "\n",
      "Current values:\n",
      "NotebookApp.iopub_msg_rate_limit=1000.0 (msgs/sec)\n",
      "NotebookApp.rate_limit_window=3.0 (secs)\n",
      "\n",
      "Steps: 53669 - TSteps: 980 - Esteps: 69:   0%|          | 26/1000000 [02:11<1620:43:44,  5.83s/it] "
     ]
    }
   ],
   "source": [
    "\"\"\"\n",
    "training loop\n",
    "\"\"\"\n",
    "count = 0\n",
    "total_steps = 0\n",
    "train_steps = dqn.t_step\n",
    "\n",
    "bar = trange(1000000)\n",
    "for epoch in bar:\n",
    "    for cycle in range(args.epoch_cycles):\n",
    "        for rollout in range(args.rollout_steps):\n",
    "            \"\"\"\n",
    "            Get an action from neural network and run it in the environment\n",
    "            \"\"\"\n",
    "            action = dqn.act( tf.convert_to_tensor( [ state ], dtype = tf.float32 ), total_steps, args.train )\n",
    "            \n",
    "            # remove the batch_size dimension if batch_size == 1\n",
    "            next_state, reward, is_terminal, _ = env.step(action)\n",
    "            reward /= 10.0\n",
    "            next_state, reward = np.float32(next_state), np.float32(reward)\n",
    "            \n",
    "            dqn.step( state, action, reward, next_state, is_terminal )\n",
    "            episode_rewards += reward\n",
    "\n",
    "            # check if game is terminated to decide how to update state, episode_steps,\n",
    "            # episode_rewards\n",
    "            if is_terminal:\n",
    "                state = np.float32(env.reset())                \n",
    "                episode_steps = 0\n",
    "                episode_rewards = 0\n",
    "            else:\n",
    "                state = next_state\n",
    "                episode_steps += 1\n",
    "\n",
    "            if not args.train:\n",
    "                env.render()\n",
    "\n",
    "            total_steps += 1\n",
    "\n",
    "            bar.set_description('Steps: {} - TSteps: {} - Esteps: {}'.format( total_steps, train_steps, episode_steps ) )\n",
    "            bar.refresh() # to show immediately the update\n",
    "\n",
    "        if len(dqn.memory) >= args.batch_size * 4 and args.train:\n",
    "            for _ in range( 20 ):\n",
    "                dqn.learn()\n",
    "                train_steps += 1\n",
    "\n",
    "        if args.train:\n",
    "            dqn.save_training( base_dir + 'training/' )"
   ]
  },
  {
   "cell_type": "code",
   "execution_count": null,
   "id": "568f0e60",
   "metadata": {},
   "outputs": [],
   "source": []
  }
 ],
 "metadata": {
  "kernelspec": {
   "display_name": "Python 3",
   "language": "python",
   "name": "python3"
  },
  "language_info": {
   "codemirror_mode": {
    "name": "ipython",
    "version": 3
   },
   "file_extension": ".py",
   "mimetype": "text/x-python",
   "name": "python",
   "nbconvert_exporter": "python",
   "pygments_lexer": "ipython3",
   "version": "3.8.5"
  }
 },
 "nbformat": 4,
 "nbformat_minor": 5
}
