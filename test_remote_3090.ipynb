{
 "cells": [
  {
   "cell_type": "code",
   "execution_count": 43,
   "id": "54c51c2d",
   "metadata": {
    "scrolled": false
   },
   "outputs": [
    {
     "name": "stdout",
     "output_type": "stream",
     "text": [
      "Tue Apr 20 18:19:04 2021       \r\n",
      "+-----------------------------------------------------------------------------+\r\n",
      "| NVIDIA-SMI 455.23.04    Driver Version: 455.23.04    CUDA Version: 11.1     |\r\n",
      "|-------------------------------+----------------------+----------------------+\r\n",
      "| GPU  Name        Persistence-M| Bus-Id        Disp.A | Volatile Uncorr. ECC |\r\n",
      "| Fan  Temp  Perf  Pwr:Usage/Cap|         Memory-Usage | GPU-Util  Compute M. |\r\n",
      "|                               |                      |               MIG M. |\r\n",
      "|===============================+======================+======================|\r\n",
      "|   0  GeForce RTX 3090    On   | 00000000:07:00.0 Off |                  N/A |\r\n",
      "|  0%   35C    P8    20W / 350W |  22739MiB / 24265MiB |      0%      Default |\r\n",
      "|                               |                      |                  N/A |\r\n",
      "+-------------------------------+----------------------+----------------------+\r\n",
      "                                                                               \r\n",
      "+-----------------------------------------------------------------------------+\r\n",
      "| Processes:                                                                  |\r\n",
      "|  GPU   GI   CI        PID   Type   Process name                  GPU Memory |\r\n",
      "|        ID   ID                                                   Usage      |\r\n",
      "|=============================================================================|\r\n",
      "|    0   N/A  N/A      1339      G   /usr/lib/xorg/Xorg                102MiB |\r\n",
      "|    0   N/A  N/A      3153      G   /usr/lib/xorg/Xorg                265MiB |\r\n",
      "|    0   N/A  N/A      3312      G   /usr/bin/gnome-shell               20MiB |\r\n",
      "|    0   N/A  N/A     39524      G   ...mviewer/tv_bin/TeamViewer       17MiB |\r\n",
      "|    0   N/A  N/A     49350      C   ...f2_rl/tf2-env/bin/python3    22313MiB |\r\n",
      "+-----------------------------------------------------------------------------+\r\n"
     ]
    }
   ],
   "source": [
    "!nvidia-smi"
   ]
  },
  {
   "cell_type": "code",
   "execution_count": 42,
   "id": "1a333ecf",
   "metadata": {},
   "outputs": [
    {
     "name": "stdout",
     "output_type": "stream",
     "text": [
      "acpitz-acpi-0\r\n",
      "Adapter: ACPI interface\r\n",
      "temp1:        +16.8°C  (crit = +20.8°C)\r\n",
      "\r\n",
      "k10temp-pci-00c3\r\n",
      "Adapter: PCI adapter\r\n",
      "Vcore:         1.45 V  \r\n",
      "Vsoc:          1.01 V  \r\n",
      "Tctl:         +37.5°C  \r\n",
      "Tdie:         +37.5°C  \r\n",
      "Tccd1:        +39.2°C  \r\n",
      "Tccd2:        +45.8°C  \r\n",
      "Icore:        16.00 A  \r\n",
      "Isoc:          7.00 A  \r\n",
      "\r\n"
     ]
    }
   ],
   "source": [
    "!sensors"
   ]
  },
  {
   "cell_type": "code",
   "execution_count": 35,
   "id": "51f2420b",
   "metadata": {},
   "outputs": [
    {
     "data": {
      "text/plain": [
       "[PhysicalDevice(name='/physical_device:GPU:0', device_type='GPU')]"
      ]
     },
     "execution_count": 35,
     "metadata": {},
     "output_type": "execute_result"
    }
   ],
   "source": [
    "import tensorflow as tf\n",
    "tf.config.list_physical_devices('GPU')"
   ]
  },
  {
   "cell_type": "code",
   "execution_count": 36,
   "id": "5bc4f546",
   "metadata": {},
   "outputs": [
    {
     "data": {
      "text/plain": [
       "24"
      ]
     },
     "execution_count": 36,
     "metadata": {},
     "output_type": "execute_result"
    }
   ],
   "source": [
    "import multiprocessing\n",
    "multiprocessing.cpu_count()"
   ]
  },
  {
   "cell_type": "code",
   "execution_count": 37,
   "id": "946c13df",
   "metadata": {},
   "outputs": [
    {
     "data": {
      "text/plain": [
       "svmem(total=58996121600, available=54284771328, percent=8.0, used=4006883328, free=46854520832, active=6529376256, inactive=3731902464, buffers=199966720, cached=7934750720, shared=35868672, slab=1433899008)"
      ]
     },
     "execution_count": 37,
     "metadata": {},
     "output_type": "execute_result"
    }
   ],
   "source": [
    "import psutil\n",
    "psutil.virtual_memory()"
   ]
  },
  {
   "cell_type": "code",
   "execution_count": 41,
   "id": "e5985911",
   "metadata": {},
   "outputs": [
    {
     "data": {
      "text/plain": [
       "10"
      ]
     },
     "execution_count": 41,
     "metadata": {},
     "output_type": "execute_result"
    }
   ],
   "source": [
    "tf.reduce_sum( [ 1, 2, 3, 4 ] ).numpy()"
   ]
  },
  {
   "cell_type": "code",
   "execution_count": 44,
   "id": "76751669",
   "metadata": {},
   "outputs": [
    {
     "name": "stdout",
     "output_type": "stream",
     "text": [
      "Requirement already satisfied: numpy in ./tf2-env/lib/python3.8/site-packages (1.19.4)\r\n"
     ]
    }
   ],
   "source": [
    "!pip3 install numpy"
   ]
  },
  {
   "cell_type": "code",
   "execution_count": null,
   "id": "f728de5c",
   "metadata": {},
   "outputs": [],
   "source": []
  }
 ],
 "metadata": {
  "kernelspec": {
   "display_name": "Python 3",
   "language": "python",
   "name": "python3"
  },
  "language_info": {
   "codemirror_mode": {
    "name": "ipython",
    "version": 3
   },
   "file_extension": ".py",
   "mimetype": "text/x-python",
   "name": "python",
   "nbconvert_exporter": "python",
   "pygments_lexer": "ipython3",
   "version": "3.8.5"
  }
 },
 "nbformat": 4,
 "nbformat_minor": 5
}
